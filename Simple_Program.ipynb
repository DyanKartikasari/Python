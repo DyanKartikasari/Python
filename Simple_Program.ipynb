{
 "cells": [
  {
   "cell_type": "markdown",
   "metadata": {},
   "source": [
    "percabangan if"
   ]
  },
  {
   "cell_type": "code",
   "execution_count": 1,
   "metadata": {},
   "outputs": [
    {
     "name": "stdout",
     "output_type": "stream",
     "text": [
      "Masukkan Username : Dyan Kartikasari\n",
      "Masukkan Password : passwordnyarahasia\n",
      "Login Berhasil\n"
     ]
    }
   ],
   "source": [
    "username_saya = \"Dyan Kartikasari\"\n",
    "password_saya = \"passwordnyarahasia\"\n",
    "username = input(\"Masukkan Username : \")\n",
    "password = input(\"Masukkan Password : \")\n",
    "\n",
    "if(username_saya == username and password_saya == password):\n",
    "    print(\"Login Berhasil\")\n",
    "else:\n",
    "    print(\"Login Gagal\")"
   ]
  },
  {
   "cell_type": "markdown",
   "metadata": {},
   "source": [
    "percabangan if-elif"
   ]
  },
  {
   "cell_type": "code",
   "execution_count": 2,
   "metadata": {
    "scrolled": true
   },
   "outputs": [
    {
     "name": "stdout",
     "output_type": "stream",
     "text": [
      "masukkan berat badan (Kg) : 46\n",
      "masukkan tinggi badan (m) : 1.56\n",
      "nilai BMI adalah :  18.902038132807363\n",
      "Normal\n"
     ]
    }
   ],
   "source": [
    "kilogram = \"Kg\"\n",
    "meter = \"M\"\n",
    "beratBadan = float(input(\"masukkan berat badan (Kg) : \"))\n",
    "tinggiBadan = float(input(\"masukkan tinggi badan (m) : \"))\n",
    "BMI = beratBadan/(tinggiBadan*tinggiBadan)\n",
    "print(\"nilai BMI adalah : \", BMI)\n",
    "\n",
    "if (BMI < 17.0) :\n",
    "    print(\"Kurus, kekurangan berat badan tingkat berat\")\n",
    "    print(\"Berat badan yang direkomendasikan adalah\", (tinggiBadan*tinggiBadan)*18.5, kilogram )\n",
    "#jika BMI kurang dari 18.5 maka akan ditampilkan berat badan yang direkomendasikan\n",
    "elif(17.0 <= BMI <= 18.49) :\n",
    "    print(\"Kurus, kekurangan berat badan tingkat ringan\")\n",
    "    print(\"Berat badan yang direkomendasikan adalah\", (tinggiBadan*tinggiBadan)*18.5, kilogram )\n",
    "#jika BMI kurang dari 18.5 maka akan ditampilkan berat badan yang direkomendasikan\n",
    "elif(18.50 <= BMI <= 25.0) :\n",
    "    print(\"Normal\")\n",
    "elif(25.1 <= BMI <= 27.0) :\n",
    "    print(\"Gemuk, Kelebihan berat badan tingkat ringan\")\n",
    "    print(\"Berat badan yang direkomendasikan adalah\", (tinggiBadan*tinggiBadan)*25.0, kilogram )\n",
    "#jika BMI lebih dari 25.0 maka akan ditampilkan berat badan yang direkomendasikan\n",
    "elif(BMI > 27) :\n",
    "    print(\"Gemuk, kelebihan berat badan tingkat berat\")\n",
    "    print(\"Berat badan yang direkomendasikan adalah\", (tinggiBadan*tinggiBadan)*25.0, kilogram )\n",
    "#jika BMI lebih dari 25.0 maka akan ditampilkan berat badan yang direkomendasikan"
   ]
  },
  {
   "cell_type": "markdown",
   "metadata": {},
   "source": [
    "percabangan if-else bertingkat (if-elif-else)"
   ]
  },
  {
   "cell_type": "code",
   "execution_count": 3,
   "metadata": {},
   "outputs": [
    {
     "name": "stdout",
     "output_type": "stream",
     "text": [
      "Masukkan ipk anda : 3.45\n",
      "ipk rata - rata\n"
     ]
    }
   ],
   "source": [
    "ipk = float(input(\"Masukkan ipk anda : \"))\n",
    "if ipk >= 3.5 :\n",
    "    print(\"ipk diatas rata - rata\")\n",
    "elif 3.0 <= ipk < 3.5 :\n",
    "    print(\"ipk rata - rata\")\n",
    "else :\n",
    "    print(\"ipk dibawah rata - rata\")"
   ]
  },
  {
   "cell_type": "markdown",
   "metadata": {},
   "source": [
    "percabangan if bersarang (nested if)"
   ]
  },
  {
   "cell_type": "code",
   "execution_count": 4,
   "metadata": {},
   "outputs": [
    {
     "name": "stdout",
     "output_type": "stream",
     "text": [
      "jangan bermain hp, belajarlah!\n"
     ]
    }
   ],
   "source": [
    "#besok ujian fisika, maka anda harus belajar\n",
    "belajar = False\n",
    "main_hp = True\n",
    "\n",
    "if belajar == True:\n",
    "    if main_hp == True:\n",
    "        print(\"anda tidak akan fokus belajar\")\n",
    "    else:\n",
    "        print(\"anda akan lebih fokus belajar\")\n",
    "else:\n",
    "    if main_hp == False:\n",
    "        print(\"jangan diam saja, lakukan suatu aktivitas\")\n",
    "    else:\n",
    "        print(\"jangan bermain hp, belajarlah!\")"
   ]
  },
  {
   "cell_type": "markdown",
   "metadata": {},
   "source": [
    "perulangan for"
   ]
  },
  {
   "cell_type": "code",
   "execution_count": 5,
   "metadata": {},
   "outputs": [
    {
     "name": "stdout",
     "output_type": "stream",
     "text": [
      "Nasi Goreng\n",
      "Tahu Tek\n",
      "Pangsit\n",
      "Gorengan\n",
      "Tahu Bulat\n"
     ]
    }
   ],
   "source": [
    "data = [\"Nasi Goreng\",\"Tahu Tek\",\"Pangsit\",\"Gorengan\",\"Tahu Bulat\"]\n",
    "for a in data :\n",
    "    print(a)"
   ]
  },
  {
   "cell_type": "markdown",
   "metadata": {},
   "source": [
    "perulangan while-else"
   ]
  },
  {
   "cell_type": "code",
   "execution_count": 1,
   "metadata": {},
   "outputs": [
    {
     "name": "stdout",
     "output_type": "stream",
     "text": [
      "Apakah Anda ingin membeli buku ? (ya/tidak) : ya\n",
      "buku ke - 1\n",
      "Apakah Anda ingin membeli buku ? (ya/tidak) : ya\n",
      "buku ke - 2\n",
      "Apakah Anda ingin membeli buku ? (ya/tidak) : tidak\n",
      "Done\n"
     ]
    }
   ],
   "source": [
    "buku = input(\"Apakah Anda ingin membeli buku ? (ya/tidak) : \")\n",
    "b = 1\n",
    "while buku == \"ya\" :\n",
    "    print(\"buku ke -\", b)\n",
    "    b = b + 1\n",
    "    buku = input(\"Apakah Anda ingin membeli buku ? (ya/tidak) : \")\n",
    "else :\n",
    "    print(\"Done\")"
   ]
  }
 ],
 "metadata": {
  "kernelspec": {
   "display_name": "Python 3",
   "language": "python",
   "name": "python3"
  },
  "language_info": {
   "codemirror_mode": {
    "name": "ipython",
    "version": 3
   },
   "file_extension": ".py",
   "mimetype": "text/x-python",
   "name": "python",
   "nbconvert_exporter": "python",
   "pygments_lexer": "ipython3",
   "version": "3.7.4"
  }
 },
 "nbformat": 4,
 "nbformat_minor": 2
}
